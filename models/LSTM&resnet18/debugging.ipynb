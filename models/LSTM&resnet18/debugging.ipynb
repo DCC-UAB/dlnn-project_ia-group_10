{
 "cells": [
  {
   "cell_type": "code",
   "execution_count": 1,
   "metadata": {},
   "outputs": [
    {
     "name": "stdout",
     "output_type": "stream",
     "text": [
      "\u001b[34m\u001b[1mwandb\u001b[0m: Currently logged in as: \u001b[33mharadai\u001b[0m (\u001b[33menergy_project_uab\u001b[0m). Use \u001b[1m`wandb login --relogin`\u001b[0m to force relogin\n"
     ]
    }
   ],
   "source": [
    "!wandb login"
   ]
  },
  {
   "cell_type": "code",
   "execution_count": 2,
   "metadata": {},
   "outputs": [
    {
     "name": "stderr",
     "output_type": "stream",
     "text": [
      "/Users/josepsmachine/miniforge3/envs/ML/lib/python3.10/site-packages/tqdm/auto.py:22: TqdmWarning: IProgress not found. Please update jupyter and ipywidgets. See https://ipywidgets.readthedocs.io/en/stable/user_install.html\n",
      "  from .autonotebook import tqdm as notebook_tqdm\n"
     ]
    },
    {
     "name": "stdout",
     "output_type": "stream",
     "text": [
      "Have you runned wandb login?? OK. go aheadd...\n",
      "Create sweep with ID: krhtoerl\n",
      "Sweep URL: https://wandb.ai/energy_project_uab/energy_project_uab/sweeps/krhtoerl\n"
     ]
    }
   ],
   "source": [
    "from models import LSTMModel\n",
    "from dataset import ImageCaptionDataset\n",
    "import pickle\n",
    "from torch.utils.data import DataLoader\n",
    "import wandb\n",
    "import yaml\n",
    "from typing import Dict\n",
    "import gensim.downloader as api\n",
    "import tensorflow_hub as hub\n",
    "from sklearn.metrics.pairwise import cosine_similarity\n",
    "from sentence_transformers import SentenceTransformer\n",
    "\n",
    "import torch\n",
    "import torch.nn as nn\n",
    "\n",
    "from tqdm import tqdm\n",
    "from icecream import ic\n",
    "\n",
    "import numpy as np\n",
    "\n",
    "import os\n",
    "\n",
    "os.environ[\"TOKENIZERS_PARALLELISM\"] = \"False\"\n",
    "\n",
    "\n",
    "###SCRIPT CONFIG!####\n",
    "device = \"cpu\" #r u running cuda my boy? or mps? :D\n",
    "num_epochs = 80\n",
    "batch_size = 1\n",
    "COSINE_SIM_IMPORTANCE = 0.8\n",
    "print(\"Have you runned wandb login?? OK. go aheadd...\")\n",
    "#####################\n",
    "\n",
    "#convert to dictionary a yaml \n",
    "def nested_dict(original_dict):\n",
    "    nested_dict = {}\n",
    "    for key, value in original_dict.items():\n",
    "        parts = key.split(\".\")\n",
    "        d = nested_dict\n",
    "        for part in parts[:-1]:\n",
    "            if part not in d:\n",
    "                d[part] = {}\n",
    "            d = d[part]\n",
    "        d[parts[-1]] = value\n",
    "    return nested_dict\n",
    "\n",
    "#load datasets\n",
    "with open('/Users/josepsmachine/Documents/UNI/DL/dlnn-project_ia-group_10/dataset/train_dataset.pkl', 'rb') as inp:\n",
    "    train_dataset = pickle.load(inp)\n",
    "with open('/Users/josepsmachine/Documents/UNI/DL/dlnn-project_ia-group_10/dataset/val_dataset.pkl', 'rb') as inp:\n",
    "    val_dataset = pickle.load(inp)\n",
    "\n",
    "#create dataloaders\n",
    "train_dataloader = DataLoader(train_dataset, batch_size=batch_size, shuffle=True)\n",
    "val_dataloader = DataLoader(val_dataset, batch_size=batch_size, shuffle=False)\n",
    "\n",
    "#load hyperparamaters to do grid search on\n",
    "#setup wandb stuff\n",
    "with open('hyperparams.yaml', 'r') as stream:\n",
    "    try:\n",
    "        sweep_config = yaml.safe_load(stream)\n",
    "    except yaml.YAMLError as exc:\n",
    "        print(exc)\n",
    "\n",
    "#create sweep\n",
    "sweep_id = wandb.sweep(sweep_config, project=\"energy_project_uab\")\n",
    "\n",
    "#load word2vec pretrained embedding layer\n",
    "word2vec_embb = api.load('glove-wiki-gigaword-50')\n",
    "vocabulary = word2vec_embb.index_to_key #save vocabulary list\n",
    "\n",
    "word2vec_embb = torch.FloatTensor(word2vec_embb.vectors)\n",
    "word2vec_embb = nn.Embedding.from_pretrained(word2vec_embb)\n",
    "word2vec_embb.requires_grad_ = False #freeze word2vec embeddding layer\n",
    "\n",
    "#load universal sentence encoder to define our own loss function\n",
    "sntc_enc = SentenceTransformer('sentence-transformers/all-MiniLM-L6-v2')\n",
    "\n",
    "#define cross entropy loss function\n",
    "cross_entrop = nn.CrossEntropyLoss()"
   ]
  },
  {
   "cell_type": "code",
   "execution_count": 4,
   "metadata": {},
   "outputs": [
    {
     "data": {
      "text/plain": [
       "(2, 384)"
      ]
     },
     "execution_count": 4,
     "metadata": {},
     "output_type": "execute_result"
    }
   ],
   "source": [
    "sntc_enc.encode([\"hey how are you?\",\"and you?\"]).shape"
   ]
  },
  {
   "cell_type": "code",
   "execution_count": 15,
   "metadata": {},
   "outputs": [],
   "source": [
    "def train(config: Dict = None):\n",
    "    with wandb.init(config, project=\"dl2023_imagecaptioning\", entity = \"dl2023team\"):\n",
    "        config = wandb.config\n",
    "        config = nested_dict(config)\n",
    "        \n",
    "        #define model for this run\n",
    "        with open('aux.pkl', 'rb') as f:\n",
    "            config = pickle.load(f)\n",
    "        if config[\"embedding_layer\"] == \"word2vec\":\n",
    "            emb_layer = word2vec_embb\n",
    "        else:\n",
    "            #the learnt embedding layer will have the same vocab size as word2vec for comparaison reasons.\n",
    "            emb_layer = nn.Embedding(num_embeddings=word2vec_embb.weight.shape[0], embedding_dim=config[\"hidden_size\"])\n",
    "\n",
    "        model = LSTMModel(input_dim=512,embedding_layer=emb_layer,hidden_dim=config[\"hidden_size\"],n_layers=config['num_layers'])\n",
    "        model.init_weights()\n",
    "        model.to(device)\n",
    "\n",
    "        #define optimizer for this run\n",
    "        optimizer_config = config[\"optimizer\"]\n",
    "        if optimizer_config[\"type\"] == 'adam':\n",
    "            optimizer = torch.optim.Adam(model.parameters(), lr = optimizer_config['lr'])\n",
    "        \n",
    "        #define loss for this run\n",
    "        if config[\"loss_funct\"] == \"crossentropy\":\n",
    "            def loss_funct(pred,ref): \n",
    "                ref = ref.long()\n",
    "                loss = cross_entrop(pred,ref)\n",
    "                return loss\n",
    "        else:\n",
    "            def loss_funct(pred,ref):\n",
    "                ref = ref.long()\n",
    "                loss1 = cross_entrop(pred,ref)\n",
    "\n",
    "                pred_keys = torch.argmax(pred,axis=-1)\n",
    "                \n",
    "                pred_sntc = \"\"\n",
    "                target_sntc = \"\"\n",
    "                for batch_ref,batch_pred in zip(ref.int(),pred_keys):\n",
    "                    pred_sntc += \" \" + vocabulary[batch_pred.item()]\n",
    "                    target_sntc += \" \" + vocabulary[batch_ref.item()]\n",
    "\n",
    "                #ic(caption)\n",
    "                #ic(target_sntc)\n",
    "                #ic(pred_sntc)\n",
    "\n",
    "                embeddings = sntc_enc.encode([pred_sntc, target_sntc])\n",
    "                similarity = cosine_similarity(embeddings[0].reshape(1, -1), embeddings[1].reshape(1, -1))\n",
    "                loss = similarity[0][0]*COSINE_SIM_IMPORTANCE + loss1*(1-COSINE_SIM_IMPORTANCE)\n",
    "                return loss\n",
    "\n",
    "        ############\n",
    "        #Train loop:\n",
    "        ############\n",
    "\n",
    "        best_loss = float('inf')\n",
    "        for epoch in range(num_epochs):\n",
    "            model.train()\n",
    "            training_losses = [] # renamed from epoch_losses\n",
    "            progress_bar = tqdm(enumerate(train_dataloader), desc=f\"Epoch {epoch + 1}/{num_epochs}\")\n",
    "            \n",
    "            for batch,(X1,X2,caption) in progress_bar:\n",
    "            #for batch,(X1,X2) in enumerate(train_dataloader):\n",
    "                X1 = X1.to(device) \n",
    "                X2 = X2.to(device)\n",
    "                out,h,c = model(X1,X2)\n",
    "                #pred_keys = torch.argmax(out,axis=-1)\n",
    "                ref = X2.float()\n",
    "                #change ref to join batch and sequence dim\n",
    "                ref = ref.view(ref.shape[0]*ref.shape[1])\n",
    "\n",
    "                #same for the out logits\n",
    "                #change ref to join batch and sequence dim\n",
    "                out = out.view(out.shape[0]*out.shape[1],out.shape[2])\n",
    "                \n",
    "                loss = loss_funct(out,ref)\n",
    "                loss.backward()\n",
    "                optimizer.step()    \n",
    "                training_losses.append(loss.item())\n",
    "                #progress_bar.set_postfix({'Batch Loss': loss.item()})\n",
    "\n",
    "            average_training_loss = sum(training_losses) / len(training_losses) # renamed from avg_loss\n",
    "            #average_training_loss = np.power(dataset.denormalize_values(np.sqrt(average_training_loss),scaler),2)\n",
    "            wandb.log({'Train_Epoch_Loss': average_training_loss})\n",
    "\n",
    "            model.eval()  \n",
    "            with torch.no_grad():  \n",
    "                validation_losses = [] # renamed from val_losses\n",
    "                for X1,X2,caption in tqdm(val_dataloader, desc='Validation'):\n",
    "                    X1 = X1.to(device) \n",
    "                    X2 = X2.to(device)\n",
    "\n",
    "                    out,h,c = model(X1,X2)\n",
    "\n",
    "                    ref = ref.view(ref.shape[0]*ref.shape[1])\n",
    "                    out = out.view(out.shape[0]*out.shape[1],out.shape[2])\n",
    "                    \n",
    "                    loss = loss_funct(out,ref)\n",
    "\n",
    "                    validation_losses.append(loss.item())\n",
    "\n",
    "                average_validation_loss = sum(validation_losses) / len(validation_losses) # renamed from avg_val_loss\n",
    "                #average_validation_loss = np.power(dataset.denormalize_values(np.sqrt(average_validation_loss),scaler),2)\n",
    "                wandb.log({'Validation_Epoch_Loss': average_validation_loss})\n",
    "\n",
    "            if average_training_loss < best_loss:\n",
    "                best_loss = average_training_loss\n",
    "                torch.save(model.state_dict(), 'models/LSTM&resnet18/LSTM&resnet18.pt')\n",
    "                wandb.save('LSTM&resnet18.pt')\n",
    "                print(f\"Model saved at {'LSTM&resnet18.pt'}\")\n",
    "\n",
    "        wandb.finish()\n",
    "    "
   ]
  },
  {
   "cell_type": "code",
   "execution_count": 17,
   "metadata": {},
   "outputs": [
    {
     "name": "stderr",
     "output_type": "stream",
     "text": [
      "Epoch 1/80: 65it [00:48,  1.44it/s]"
     ]
    }
   ],
   "source": [
    "import os\n",
    "\n",
    "os.environ[\"TOKENIZERS_PARALLELISM\"] = \"False\""
   ]
  },
  {
   "cell_type": "code",
   "execution_count": 16,
   "metadata": {},
   "outputs": [
    {
     "name": "stderr",
     "output_type": "stream",
     "text": [
      "\u001b[34m\u001b[1mwandb\u001b[0m: Agent Starting Run: e71hvex1 with config:\n",
      "\u001b[34m\u001b[1mwandb\u001b[0m: \tembedding_layer: word2vec\n",
      "\u001b[34m\u001b[1mwandb\u001b[0m: \thidden_size: 600\n",
      "\u001b[34m\u001b[1mwandb\u001b[0m: \tloss_funct: CrssEntrop+UnivSntcEnc_cosDist\n",
      "\u001b[34m\u001b[1mwandb\u001b[0m: \tnum_layers: 3\n",
      "\u001b[34m\u001b[1mwandb\u001b[0m: \toptimizer: {'lr': 0.004065216325998223, 'type': 'adam'}\n"
     ]
    },
    {
     "name": "stdout",
     "output_type": "stream",
     "text": [
      "huggingface/tokenizers: The current process just got forked, after parallelism has already been used. Disabling parallelism to avoid deadlocks...\n",
      "To disable this warning, you can either:\n",
      "\t- Avoid using `tokenizers` before the fork if possible\n",
      "\t- Explicitly set the environment variable TOKENIZERS_PARALLELISM=(true | false)\n"
     ]
    },
    {
     "name": "stderr",
     "output_type": "stream",
     "text": [
      "\u001b[34m\u001b[1mwandb\u001b[0m: Currently logged in as: \u001b[33mharadai\u001b[0m (\u001b[33mdl2023team\u001b[0m). Use \u001b[1m`wandb login --relogin`\u001b[0m to force relogin\n",
      "\u001b[34m\u001b[1mwandb\u001b[0m: \u001b[33mWARNING\u001b[0m Ignored wandb.init() arg project when running a sweep.\n",
      "\u001b[34m\u001b[1mwandb\u001b[0m: \u001b[33mWARNING\u001b[0m Ignored wandb.init() arg entity when running a sweep.\n"
     ]
    },
    {
     "name": "stdout",
     "output_type": "stream",
     "text": [
      "huggingface/tokenizers: The current process just got forked, after parallelism has already been used. Disabling parallelism to avoid deadlocks...\n",
      "To disable this warning, you can either:\n",
      "\t- Avoid using `tokenizers` before the fork if possible\n",
      "\t- Explicitly set the environment variable TOKENIZERS_PARALLELISM=(true | false)\n",
      "huggingface/tokenizers: The current process just got forked, after parallelism has already been used. Disabling parallelism to avoid deadlocks...\n",
      "To disable this warning, you can either:\n",
      "\t- Avoid using `tokenizers` before the fork if possible\n",
      "\t- Explicitly set the environment variable TOKENIZERS_PARALLELISM=(true | false)\n"
     ]
    },
    {
     "name": "stderr",
     "output_type": "stream",
     "text": [
      "\u001b[34m\u001b[1mwandb\u001b[0m: Ctrl + C detected. Stopping sweep.\n"
     ]
    }
   ],
   "source": [
    "wandb.agent(sweep_id, function=train)"
   ]
  }
 ],
 "metadata": {
  "kernelspec": {
   "display_name": "Python 3.10.9 ('ML')",
   "language": "python",
   "name": "python3"
  },
  "language_info": {
   "codemirror_mode": {
    "name": "ipython",
    "version": 3
   },
   "file_extension": ".py",
   "mimetype": "text/x-python",
   "name": "python",
   "nbconvert_exporter": "python",
   "pygments_lexer": "ipython3",
   "version": "3.10.9"
  },
  "orig_nbformat": 4,
  "vscode": {
   "interpreter": {
    "hash": "da600ade1a771c82ddf6d22a5a41f856afbf3528a3611e1c80e3ac6da17c9450"
   }
  }
 },
 "nbformat": 4,
 "nbformat_minor": 2
}

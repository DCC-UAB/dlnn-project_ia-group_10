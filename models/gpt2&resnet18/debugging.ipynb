{
 "cells": [
  {
   "cell_type": "code",
   "execution_count": 1,
   "metadata": {},
   "outputs": [
    {
     "name": "stderr",
     "output_type": "stream",
     "text": [
      "/Users/josepsmachine/miniforge3/envs/ML/lib/python3.10/site-packages/tqdm/auto.py:22: TqdmWarning: IProgress not found. Please update jupyter and ipywidgets. See https://ipywidgets.readthedocs.io/en/stable/user_install.html\n",
      "  from .autonotebook import tqdm as notebook_tqdm\n",
      "/Users/josepsmachine/miniforge3/envs/ML/lib/python3.10/site-packages/torchvision/io/image.py:13: UserWarning: Failed to load image Python extension: dlopen(/Users/josepsmachine/miniforge3/envs/ML/lib/python3.10/site-packages/torchvision/image.so, 0x0006): Symbol not found: (__ZN3c106detail19maybe_wrap_dim_slowExxb)\n",
      "  Referenced from: '/Users/josepsmachine/miniforge3/envs/ML/lib/python3.10/site-packages/torchvision/image.so'\n",
      "  Expected in: '/Users/josepsmachine/miniforge3/envs/ML/lib/python3.10/site-packages/torch/lib/libc10.dylib'\n",
      "  warn(f\"Failed to load image Python extension: {e}\")\n"
     ]
    }
   ],
   "source": [
    "from models import caption_generator"
   ]
  },
  {
   "cell_type": "code",
   "execution_count": 2,
   "metadata": {},
   "outputs": [],
   "source": [
    "from transformers import GPT2Tokenizer, GPT2LMHeadModel\n",
    "tokenizer = GPT2Tokenizer.from_pretrained('gpt2')\n",
    "gpt2 = GPT2LMHeadModel.from_pretrained('gpt2')"
   ]
  },
  {
   "cell_type": "code",
   "execution_count": 3,
   "metadata": {},
   "outputs": [
    {
     "name": "stderr",
     "output_type": "stream",
     "text": [
      "/Users/josepsmachine/miniforge3/envs/ML/lib/python3.10/site-packages/torchvision/models/_utils.py:208: UserWarning: The parameter 'pretrained' is deprecated since 0.13 and may be removed in the future, please use 'weights' instead.\n",
      "  warnings.warn(\n",
      "/Users/josepsmachine/miniforge3/envs/ML/lib/python3.10/site-packages/torchvision/models/_utils.py:223: UserWarning: Arguments other than a weight enum or `None` for 'weights' are deprecated since 0.13 and may be removed in the future. The current behavior is equivalent to passing `weights=ResNet18_Weights.IMAGENET1K_V1`. You can also use `weights=ResNet18_Weights.DEFAULT` to get the most up-to-date weights.\n",
      "  warnings.warn(msg)\n"
     ]
    }
   ],
   "source": [
    "import torchvision.models as models\n",
    "import torchvision.transforms as transforms\n",
    "from PIL import Image\n",
    "resnet18 = models.resnet18(pretrained=True)"
   ]
  },
  {
   "cell_type": "code",
   "execution_count": 4,
   "metadata": {},
   "outputs": [],
   "source": [
    "device = \"mps\""
   ]
  },
  {
   "cell_type": "code",
   "execution_count": 5,
   "metadata": {},
   "outputs": [
    {
     "data": {
      "text/plain": [
       "caption_generator(\n",
       "  (gpt2): GPT2LMHeadModel(\n",
       "    (transformer): GPT2Model(\n",
       "      (wte): hacky_embedding(\n",
       "        (gpt2_emb): Embedding(50257, 768)\n",
       "      )\n",
       "      (wpe): Embedding(1024, 768)\n",
       "      (drop): Dropout(p=0.1, inplace=False)\n",
       "      (h): ModuleList(\n",
       "        (0-11): 12 x GPT2Block(\n",
       "          (ln_1): LayerNorm((768,), eps=1e-05, elementwise_affine=True)\n",
       "          (attn): GPT2Attention(\n",
       "            (c_attn): Conv1D()\n",
       "            (c_proj): Conv1D()\n",
       "            (attn_dropout): Dropout(p=0.1, inplace=False)\n",
       "            (resid_dropout): Dropout(p=0.1, inplace=False)\n",
       "          )\n",
       "          (ln_2): LayerNorm((768,), eps=1e-05, elementwise_affine=True)\n",
       "          (mlp): GPT2MLP(\n",
       "            (c_fc): Conv1D()\n",
       "            (c_proj): Conv1D()\n",
       "            (act): NewGELUActivation()\n",
       "            (dropout): Dropout(p=0.1, inplace=False)\n",
       "          )\n",
       "        )\n",
       "      )\n",
       "      (ln_f): LayerNorm((768,), eps=1e-05, elementwise_affine=True)\n",
       "    )\n",
       "    (lm_head): Linear(in_features=768, out_features=50257, bias=False)\n",
       "  )\n",
       "  (hacky_embedding): hacky_embedding(\n",
       "    (gpt2_emb): Embedding(50257, 768)\n",
       "  )\n",
       "  (resnet18): ResNet(\n",
       "    (conv1): Conv2d(3, 64, kernel_size=(7, 7), stride=(2, 2), padding=(3, 3), bias=False)\n",
       "    (bn1): BatchNorm2d(64, eps=1e-05, momentum=0.1, affine=True, track_running_stats=True)\n",
       "    (relu): ReLU(inplace=True)\n",
       "    (maxpool): MaxPool2d(kernel_size=3, stride=2, padding=1, dilation=1, ceil_mode=False)\n",
       "    (layer1): Sequential(\n",
       "      (0): BasicBlock(\n",
       "        (conv1): Conv2d(64, 64, kernel_size=(3, 3), stride=(1, 1), padding=(1, 1), bias=False)\n",
       "        (bn1): BatchNorm2d(64, eps=1e-05, momentum=0.1, affine=True, track_running_stats=True)\n",
       "        (relu): ReLU(inplace=True)\n",
       "        (conv2): Conv2d(64, 64, kernel_size=(3, 3), stride=(1, 1), padding=(1, 1), bias=False)\n",
       "        (bn2): BatchNorm2d(64, eps=1e-05, momentum=0.1, affine=True, track_running_stats=True)\n",
       "      )\n",
       "      (1): BasicBlock(\n",
       "        (conv1): Conv2d(64, 64, kernel_size=(3, 3), stride=(1, 1), padding=(1, 1), bias=False)\n",
       "        (bn1): BatchNorm2d(64, eps=1e-05, momentum=0.1, affine=True, track_running_stats=True)\n",
       "        (relu): ReLU(inplace=True)\n",
       "        (conv2): Conv2d(64, 64, kernel_size=(3, 3), stride=(1, 1), padding=(1, 1), bias=False)\n",
       "        (bn2): BatchNorm2d(64, eps=1e-05, momentum=0.1, affine=True, track_running_stats=True)\n",
       "      )\n",
       "    )\n",
       "    (layer2): Sequential(\n",
       "      (0): BasicBlock(\n",
       "        (conv1): Conv2d(64, 128, kernel_size=(3, 3), stride=(2, 2), padding=(1, 1), bias=False)\n",
       "        (bn1): BatchNorm2d(128, eps=1e-05, momentum=0.1, affine=True, track_running_stats=True)\n",
       "        (relu): ReLU(inplace=True)\n",
       "        (conv2): Conv2d(128, 128, kernel_size=(3, 3), stride=(1, 1), padding=(1, 1), bias=False)\n",
       "        (bn2): BatchNorm2d(128, eps=1e-05, momentum=0.1, affine=True, track_running_stats=True)\n",
       "        (downsample): Sequential(\n",
       "          (0): Conv2d(64, 128, kernel_size=(1, 1), stride=(2, 2), bias=False)\n",
       "          (1): BatchNorm2d(128, eps=1e-05, momentum=0.1, affine=True, track_running_stats=True)\n",
       "        )\n",
       "      )\n",
       "      (1): BasicBlock(\n",
       "        (conv1): Conv2d(128, 128, kernel_size=(3, 3), stride=(1, 1), padding=(1, 1), bias=False)\n",
       "        (bn1): BatchNorm2d(128, eps=1e-05, momentum=0.1, affine=True, track_running_stats=True)\n",
       "        (relu): ReLU(inplace=True)\n",
       "        (conv2): Conv2d(128, 128, kernel_size=(3, 3), stride=(1, 1), padding=(1, 1), bias=False)\n",
       "        (bn2): BatchNorm2d(128, eps=1e-05, momentum=0.1, affine=True, track_running_stats=True)\n",
       "      )\n",
       "    )\n",
       "    (layer3): Sequential(\n",
       "      (0): BasicBlock(\n",
       "        (conv1): Conv2d(128, 256, kernel_size=(3, 3), stride=(2, 2), padding=(1, 1), bias=False)\n",
       "        (bn1): BatchNorm2d(256, eps=1e-05, momentum=0.1, affine=True, track_running_stats=True)\n",
       "        (relu): ReLU(inplace=True)\n",
       "        (conv2): Conv2d(256, 256, kernel_size=(3, 3), stride=(1, 1), padding=(1, 1), bias=False)\n",
       "        (bn2): BatchNorm2d(256, eps=1e-05, momentum=0.1, affine=True, track_running_stats=True)\n",
       "        (downsample): Sequential(\n",
       "          (0): Conv2d(128, 256, kernel_size=(1, 1), stride=(2, 2), bias=False)\n",
       "          (1): BatchNorm2d(256, eps=1e-05, momentum=0.1, affine=True, track_running_stats=True)\n",
       "        )\n",
       "      )\n",
       "      (1): BasicBlock(\n",
       "        (conv1): Conv2d(256, 256, kernel_size=(3, 3), stride=(1, 1), padding=(1, 1), bias=False)\n",
       "        (bn1): BatchNorm2d(256, eps=1e-05, momentum=0.1, affine=True, track_running_stats=True)\n",
       "        (relu): ReLU(inplace=True)\n",
       "        (conv2): Conv2d(256, 256, kernel_size=(3, 3), stride=(1, 1), padding=(1, 1), bias=False)\n",
       "        (bn2): BatchNorm2d(256, eps=1e-05, momentum=0.1, affine=True, track_running_stats=True)\n",
       "      )\n",
       "    )\n",
       "    (layer4): Sequential(\n",
       "      (0): BasicBlock(\n",
       "        (conv1): Conv2d(256, 512, kernel_size=(3, 3), stride=(2, 2), padding=(1, 1), bias=False)\n",
       "        (bn1): BatchNorm2d(512, eps=1e-05, momentum=0.1, affine=True, track_running_stats=True)\n",
       "        (relu): ReLU(inplace=True)\n",
       "        (conv2): Conv2d(512, 512, kernel_size=(3, 3), stride=(1, 1), padding=(1, 1), bias=False)\n",
       "        (bn2): BatchNorm2d(512, eps=1e-05, momentum=0.1, affine=True, track_running_stats=True)\n",
       "        (downsample): Sequential(\n",
       "          (0): Conv2d(256, 512, kernel_size=(1, 1), stride=(2, 2), bias=False)\n",
       "          (1): BatchNorm2d(512, eps=1e-05, momentum=0.1, affine=True, track_running_stats=True)\n",
       "        )\n",
       "      )\n",
       "      (1): BasicBlock(\n",
       "        (conv1): Conv2d(512, 512, kernel_size=(3, 3), stride=(1, 1), padding=(1, 1), bias=False)\n",
       "        (bn1): BatchNorm2d(512, eps=1e-05, momentum=0.1, affine=True, track_running_stats=True)\n",
       "        (relu): ReLU(inplace=True)\n",
       "        (conv2): Conv2d(512, 512, kernel_size=(3, 3), stride=(1, 1), padding=(1, 1), bias=False)\n",
       "        (bn2): BatchNorm2d(512, eps=1e-05, momentum=0.1, affine=True, track_running_stats=True)\n",
       "      )\n",
       "    )\n",
       "    (avgpool): AdaptiveAvgPool2d(output_size=(1, 1))\n",
       "    (fc): Linear(in_features=512, out_features=1000, bias=True)\n",
       "  )\n",
       "  (imgfeat_to_gpt2emb): AttentionBlock(\n",
       "    (key_gen): Sequential(\n",
       "      (0): Linear(in_features=1000, out_features=500, bias=True)\n",
       "      (1): ReLU()\n",
       "      (2): Linear(in_features=500, out_features=500, bias=True)\n",
       "      (3): ReLU()\n",
       "      (4): Linear(in_features=500, out_features=2304, bias=True)\n",
       "      (5): ReLU()\n",
       "    )\n",
       "    (val_gen): Sequential(\n",
       "      (0): Linear(in_features=1000, out_features=500, bias=True)\n",
       "      (1): ReLU()\n",
       "      (2): Linear(in_features=500, out_features=500, bias=True)\n",
       "      (3): ReLU()\n",
       "      (4): Linear(in_features=500, out_features=2304, bias=True)\n",
       "      (5): ReLU()\n",
       "    )\n",
       "    (query_gen): Sequential(\n",
       "      (0): Linear(in_features=1000, out_features=500, bias=True)\n",
       "      (1): ReLU()\n",
       "      (2): Linear(in_features=500, out_features=500, bias=True)\n",
       "      (3): ReLU()\n",
       "      (4): Linear(in_features=500, out_features=2304, bias=True)\n",
       "      (5): Softmax(dim=-1)\n",
       "    )\n",
       "    (multihead_attn): MultiheadAttention(\n",
       "      (out_proj): NonDynamicallyQuantizableLinear(in_features=2304, out_features=2304, bias=True)\n",
       "    )\n",
       "  )\n",
       "  (imgfeat_to_gpt2emb2): AttentionBlock(\n",
       "    (key_gen): Sequential(\n",
       "      (0): Linear(in_features=2304, out_features=1152, bias=True)\n",
       "      (1): ReLU()\n",
       "      (2): Linear(in_features=1152, out_features=1152, bias=True)\n",
       "      (3): ReLU()\n",
       "      (4): Linear(in_features=1152, out_features=2304, bias=True)\n",
       "      (5): ReLU()\n",
       "    )\n",
       "    (val_gen): Sequential(\n",
       "      (0): Linear(in_features=2304, out_features=1152, bias=True)\n",
       "      (1): ReLU()\n",
       "      (2): Linear(in_features=1152, out_features=1152, bias=True)\n",
       "      (3): ReLU()\n",
       "      (4): Linear(in_features=1152, out_features=2304, bias=True)\n",
       "      (5): ReLU()\n",
       "    )\n",
       "    (query_gen): Sequential(\n",
       "      (0): Linear(in_features=2304, out_features=1152, bias=True)\n",
       "      (1): ReLU()\n",
       "      (2): Linear(in_features=1152, out_features=1152, bias=True)\n",
       "      (3): ReLU()\n",
       "      (4): Linear(in_features=1152, out_features=2304, bias=True)\n",
       "      (5): Softmax(dim=-1)\n",
       "    )\n",
       "    (multihead_attn): MultiheadAttention(\n",
       "      (out_proj): NonDynamicallyQuantizableLinear(in_features=2304, out_features=2304, bias=True)\n",
       "    )\n",
       "  )\n",
       "  (imgfeat_to_gpt2emb3): AttentionBlock(\n",
       "    (key_gen): Sequential(\n",
       "      (0): Linear(in_features=2304, out_features=1152, bias=True)\n",
       "      (1): ReLU()\n",
       "      (2): Linear(in_features=1152, out_features=1152, bias=True)\n",
       "      (3): ReLU()\n",
       "      (4): Linear(in_features=1152, out_features=2304, bias=True)\n",
       "      (5): ReLU()\n",
       "    )\n",
       "    (val_gen): Sequential(\n",
       "      (0): Linear(in_features=2304, out_features=1152, bias=True)\n",
       "      (1): ReLU()\n",
       "      (2): Linear(in_features=1152, out_features=1152, bias=True)\n",
       "      (3): ReLU()\n",
       "      (4): Linear(in_features=1152, out_features=2304, bias=True)\n",
       "      (5): ReLU()\n",
       "    )\n",
       "    (query_gen): Sequential(\n",
       "      (0): Linear(in_features=2304, out_features=1152, bias=True)\n",
       "      (1): ReLU()\n",
       "      (2): Linear(in_features=1152, out_features=1152, bias=True)\n",
       "      (3): ReLU()\n",
       "      (4): Linear(in_features=1152, out_features=2304, bias=True)\n",
       "      (5): Softmax(dim=-1)\n",
       "    )\n",
       "    (multihead_attn): MultiheadAttention(\n",
       "      (out_proj): NonDynamicallyQuantizableLinear(in_features=2304, out_features=2304, bias=True)\n",
       "    )\n",
       "  )\n",
       ")"
      ]
     },
     "execution_count": 5,
     "metadata": {},
     "output_type": "execute_result"
    }
   ],
   "source": [
    "model = caption_generator(gpt2,resnet18,tokens_per_img=3,batch_size=1)\n",
    "model.to(device)"
   ]
  },
  {
   "cell_type": "code",
   "execution_count": 6,
   "metadata": {},
   "outputs": [],
   "source": [
    "from dataset import image_caption_dataset"
   ]
  },
  {
   "cell_type": "code",
   "execution_count": 7,
   "metadata": {},
   "outputs": [
    {
     "name": "stderr",
     "output_type": "stream",
     "text": [
      "100%|██████████| 1000/1000 [00:04<00:00, 240.68it/s]\n"
     ]
    }
   ],
   "source": [
    "dataset = image_caption_dataset(\"/Users/josepsmachine/Documents/UNI/DL/dlnn-project_ia-group_10_OLDDD/dataset/Images/\",\"/Users/josepsmachine/Documents/UNI/DL/dlnn-project_ia-group_10_OLDDD/dataset/captions.txt\",n_im=1000)"
   ]
  },
  {
   "cell_type": "code",
   "execution_count": 8,
   "metadata": {},
   "outputs": [],
   "source": [
    "sample = dataset.__getitem__(0)\n",
    "img = sample[\"x\"].to(device)\n",
    "caption = sample[\"y_tokenized\"].to(device)"
   ]
  },
  {
   "cell_type": "code",
   "execution_count": 9,
   "metadata": {},
   "outputs": [],
   "source": [
    "from torch.utils.data import DataLoader"
   ]
  },
  {
   "cell_type": "code",
   "execution_count": 10,
   "metadata": {},
   "outputs": [],
   "source": [
    "dataloader = DataLoader(dataset, batch_size=1, shuffle=True)"
   ]
  },
  {
   "cell_type": "code",
   "execution_count": 11,
   "metadata": {},
   "outputs": [],
   "source": [
    "sample = next(iter(dataloader))\n",
    "img = sample[\"x\"].to(device)\n",
    "caption = sample[\"y_tokenized\"].to(device).squeeze(0)"
   ]
  },
  {
   "cell_type": "code",
   "execution_count": 12,
   "metadata": {},
   "outputs": [],
   "source": [
    "caption_logits = model(img=img,train=True,caption=caption)"
   ]
  },
  {
   "cell_type": "code",
   "execution_count": 13,
   "metadata": {},
   "outputs": [],
   "source": [
    "import torch.nn.functional as F\n",
    "import torch.nn as nn\n",
    "entropy_loss = nn.CrossEntropyLoss()"
   ]
  },
  {
   "cell_type": "code",
   "execution_count": 14,
   "metadata": {},
   "outputs": [
    {
     "name": "stderr",
     "output_type": "stream",
     "text": [
      "/var/folders/j8/64lnvrmj50q5dv_5dj_ztbz40000gn/T/ipykernel_19961/1536336104.py:1: UserWarning: Implicit dimension choice for softmax has been deprecated. Change the call to include dim=X as an argument.\n",
      "  loss = entropy_loss(F.softmax(caption_logits[0]),caption[0])\n",
      "/Users/josepsmachine/miniforge3/envs/ML/lib/python3.10/site-packages/torch/_tensor_str.py:115: UserWarning: MPS: nonzero op is supported natively starting from macOS 13.0. Falling back on CPU. This may have performance implications. (Triggered internally at /Users/runner/work/pytorch/pytorch/pytorch/aten/src/ATen/native/mps/operations/Indexing.mm:218.)\n",
      "  nonzero_finite_vals = torch.masked_select(\n"
     ]
    },
    {
     "data": {
      "text/plain": [
       "tensor(10.8248, device='mps:0', grad_fn=<NllLossBackward0>)"
      ]
     },
     "execution_count": 14,
     "metadata": {},
     "output_type": "execute_result"
    }
   ],
   "source": [
    "loss = entropy_loss(F.softmax(caption_logits[0]),caption[0])\n",
    "loss "
   ]
  },
  {
   "cell_type": "code",
   "execution_count": 15,
   "metadata": {},
   "outputs": [],
   "source": [
    "loss.backward()"
   ]
  },
  {
   "cell_type": "code",
   "execution_count": 16,
   "metadata": {},
   "outputs": [],
   "source": [
    "from train import train"
   ]
  },
  {
   "cell_type": "code",
   "execution_count": 18,
   "metadata": {},
   "outputs": [
    {
     "name": "stdout",
     "output_type": "stream",
     "text": [
      "epoch: 0 || batch:0 || loss:10.77493953704834\n",
      "epoch: 0 || batch:1 || loss:10.758273124694824\n",
      "epoch: 0 || batch:2 || loss:10.781460762023926\n",
      "epoch: 0 || batch:3 || loss:10.77731990814209\n",
      "epoch: 0 || batch:4 || loss:10.77493953704834\n",
      "epoch: 0 || batch:5 || loss:10.78493881225586\n",
      "epoch: 0 || batch:6 || loss:10.758273124694824\n",
      "epoch: 0 || batch:7 || loss:10.77493953704834\n",
      "epoch: 0 || batch:8 || loss:10.769383430480957\n",
      "epoch: 0 || batch:9 || loss:10.772307395935059\n",
      "epoch: 0 || batch:10 || loss:10.766115188598633\n",
      "epoch: 0 || batch:11 || loss:10.762438774108887\n",
      "epoch: 0 || batch:12 || loss:10.77493953704834\n",
      "epoch: 0 || batch:13 || loss:10.77493953704834\n",
      "epoch: 0 || batch:14 || loss:10.758273124694824\n",
      "epoch: 0 || batch:15 || loss:10.781460762023926\n",
      "epoch: 0 || batch:16 || loss:10.78493881225586\n",
      "epoch: 0 || batch:17 || loss:10.781460762023926\n",
      "epoch: 0 || batch:18 || loss:10.758273124694824\n",
      "epoch: 0 || batch:19 || loss:10.758273124694824\n",
      "epoch: 0 || batch:20 || loss:10.77731990814209\n",
      "epoch: 0 || batch:21 || loss:10.772307395935059\n",
      "epoch: 0 || batch:22 || loss:10.779484748840332\n",
      "epoch: 0 || batch:23 || loss:10.766115188598633\n",
      "epoch: 0 || batch:24 || loss:10.77731990814209\n",
      "epoch: 0 || batch:25 || loss:10.78493881225586\n",
      "epoch: 0 || batch:26 || loss:10.77493953704834\n",
      "epoch: 0 || batch:27 || loss:10.772307395935059\n",
      "epoch: 0 || batch:28 || loss:10.766115188598633\n",
      "epoch: 0 || batch:29 || loss:10.77493953704834\n",
      "epoch: 0 || batch:30 || loss:10.786477088928223\n",
      "epoch: 0 || batch:31 || loss:10.772307395935059\n",
      "epoch: 0 || batch:32 || loss:10.766115188598633\n",
      "epoch: 0 || batch:33 || loss:10.769383430480957\n",
      "epoch: 0 || batch:34 || loss:10.766115188598633\n",
      "epoch: 0 || batch:35 || loss:10.779484748840332\n",
      "epoch: 0 || batch:36 || loss:10.772307395935059\n",
      "epoch: 0 || batch:37 || loss:10.769383430480957\n",
      "epoch: 0 || batch:38 || loss:10.762438774108887\n",
      "epoch: 0 || batch:39 || loss:10.779484748840332\n",
      "epoch: 0 || batch:40 || loss:10.762438774108887\n",
      "epoch: 0 || batch:41 || loss:10.758273124694824\n",
      "epoch: 0 || batch:42 || loss:10.772307395935059\n",
      "epoch: 0 || batch:43 || loss:10.762438774108887\n",
      "epoch: 0 || batch:44 || loss:10.792680740356445\n",
      "epoch: 0 || batch:45 || loss:10.762438774108887\n",
      "epoch: 0 || batch:46 || loss:10.766115188598633\n",
      "epoch: 0 || batch:47 || loss:10.77493953704834\n",
      "epoch: 0 || batch:48 || loss:10.766115188598633\n",
      "epoch: 0 || batch:49 || loss:10.794635772705078\n",
      "epoch: 0 || batch:50 || loss:10.772307395935059\n",
      "epoch: 0 || batch:51 || loss:10.779484748840332\n",
      "epoch: 0 || batch:52 || loss:10.769383430480957\n",
      "epoch: 0 || batch:53 || loss:10.789224624633789\n",
      "epoch: 0 || batch:54 || loss:10.786477088928223\n",
      "epoch: 0 || batch:55 || loss:10.786477088928223\n",
      "epoch: 0 || batch:56 || loss:10.758273124694824\n",
      "epoch: 0 || batch:57 || loss:10.77731990814209\n",
      "epoch: 0 || batch:58 || loss:10.762438774108887\n",
      "epoch: 0 || batch:59 || loss:10.762438774108887\n",
      "epoch: 0 || batch:60 || loss:10.769383430480957\n",
      "epoch: 0 || batch:61 || loss:10.753510475158691\n",
      "epoch: 0 || batch:62 || loss:10.753510475158691\n",
      "epoch: 0 || batch:63 || loss:10.77493953704834\n",
      "epoch: 0 || batch:64 || loss:10.753510475158691\n",
      "epoch: 0 || batch:65 || loss:10.787900924682617\n",
      "epoch: 0 || batch:66 || loss:10.77731990814209\n",
      "epoch: 0 || batch:67 || loss:10.77731990814209\n",
      "epoch: 0 || batch:68 || loss:10.77731990814209\n",
      "epoch: 0 || batch:69 || loss:10.781460762023926\n",
      "epoch: 0 || batch:70 || loss:10.769383430480957\n",
      "epoch: 0 || batch:71 || loss:10.758273124694824\n",
      "epoch: 0 || batch:72 || loss:10.787900924682617\n",
      "epoch: 0 || batch:73 || loss:10.783271789550781\n",
      "epoch: 0 || batch:74 || loss:10.762438774108887\n",
      "epoch: 0 || batch:75 || loss:10.762438774108887\n",
      "epoch: 0 || batch:76 || loss:10.766115188598633\n",
      "epoch: 0 || batch:77 || loss:10.758273124694824\n",
      "epoch: 0 || batch:78 || loss:10.766115188598633\n",
      "epoch: 0 || batch:79 || loss:10.781460762023926\n",
      "epoch: 0 || batch:80 || loss:10.77731990814209\n",
      "epoch: 0 || batch:81 || loss:10.779484748840332\n",
      "epoch: 0 || batch:82 || loss:10.766115188598633\n",
      "epoch: 0 || batch:83 || loss:10.758273124694824\n",
      "epoch: 0 || batch:84 || loss:10.77493953704834\n",
      "epoch: 0 || batch:85 || loss:10.758273124694824\n",
      "epoch: 0 || batch:86 || loss:10.769383430480957\n",
      "epoch: 0 || batch:87 || loss:10.769383430480957\n",
      "epoch: 0 || batch:88 || loss:10.769383430480957\n",
      "epoch: 0 || batch:89 || loss:10.769383430480957\n",
      "epoch: 0 || batch:90 || loss:10.781460762023926\n",
      "epoch: 0 || batch:91 || loss:10.77493953704834\n",
      "epoch: 0 || batch:92 || loss:10.772307395935059\n",
      "epoch: 0 || batch:93 || loss:10.772307395935059\n",
      "epoch: 0 || batch:94 || loss:10.78493881225586\n",
      "epoch: 0 || batch:95 || loss:10.766115188598633\n",
      "epoch: 0 || batch:96 || loss:10.769383430480957\n",
      "epoch: 0 || batch:97 || loss:10.769383430480957\n",
      "epoch: 0 || batch:98 || loss:10.748015403747559\n",
      "epoch: 0 || batch:99 || loss:10.766115188598633\n",
      "epoch: 0 || batch:100 || loss:10.786477088928223\n",
      "epoch: 0 || batch:101 || loss:10.772307395935059\n",
      "epoch: 0 || batch:102 || loss:10.77731990814209\n",
      "epoch: 0 || batch:103 || loss:10.779484748840332\n",
      "epoch: 0 || batch:104 || loss:10.753510475158691\n",
      "epoch: 0 || batch:105 || loss:10.78493881225586\n",
      "epoch: 0 || batch:106 || loss:10.779484748840332\n",
      "epoch: 0 || batch:107 || loss:10.783271789550781\n",
      "epoch: 0 || batch:108 || loss:10.758273124694824\n",
      "epoch: 0 || batch:109 || loss:10.753510475158691\n",
      "epoch: 0 || batch:110 || loss:10.77493953704834\n",
      "epoch: 0 || batch:111 || loss:10.758273124694824\n",
      "epoch: 0 || batch:112 || loss:10.748015403747559\n",
      "epoch: 0 || batch:113 || loss:10.766115188598633\n",
      "epoch: 0 || batch:114 || loss:10.787900924682617\n",
      "epoch: 0 || batch:115 || loss:10.769383430480957\n",
      "epoch: 0 || batch:116 || loss:10.753510475158691\n",
      "epoch: 0 || batch:117 || loss:10.766115188598633\n",
      "epoch: 0 || batch:118 || loss:10.753510475158691\n",
      "epoch: 0 || batch:119 || loss:10.78493881225586\n",
      "epoch: 0 || batch:120 || loss:10.758273124694824\n",
      "epoch: 0 || batch:121 || loss:10.772307395935059\n",
      "epoch: 0 || batch:122 || loss:10.766115188598633\n",
      "epoch: 0 || batch:123 || loss:10.77731990814209\n",
      "epoch: 0 || batch:124 || loss:10.766115188598633\n",
      "epoch: 0 || batch:125 || loss:10.766115188598633\n",
      "epoch: 0 || batch:126 || loss:10.78493881225586\n",
      "epoch: 0 || batch:127 || loss:10.766115188598633\n",
      "epoch: 0 || batch:128 || loss:10.781460762023926\n",
      "epoch: 0 || batch:129 || loss:10.772307395935059\n",
      "epoch: 0 || batch:130 || loss:10.79045581817627\n",
      "epoch: 0 || batch:131 || loss:10.769383430480957\n",
      "epoch: 0 || batch:132 || loss:10.77731990814209\n",
      "epoch: 0 || batch:133 || loss:10.77493953704834\n",
      "epoch: 0 || batch:134 || loss:10.779484748840332\n",
      "epoch: 0 || batch:135 || loss:10.769383430480957\n",
      "epoch: 0 || batch:136 || loss:10.766115188598633\n",
      "epoch: 0 || batch:137 || loss:10.77493953704834\n"
     ]
    },
    {
     "ename": "KeyboardInterrupt",
     "evalue": "",
     "output_type": "error",
     "traceback": [
      "\u001b[0;31m---------------------------------------------------------------------------\u001b[0m",
      "\u001b[0;31mKeyboardInterrupt\u001b[0m                         Traceback (most recent call last)",
      "Cell \u001b[0;32mIn[18], line 1\u001b[0m\n\u001b[0;32m----> 1\u001b[0m \u001b[43mtrain\u001b[49m\u001b[43m(\u001b[49m\u001b[43mmodel\u001b[49m\u001b[43m,\u001b[49m\u001b[43mdataloader\u001b[49m\u001b[43m,\u001b[49m\u001b[43mepochs\u001b[49m\u001b[38;5;241;43m=\u001b[39;49m\u001b[38;5;241;43m1\u001b[39;49m\u001b[43m,\u001b[49m\u001b[43mlr\u001b[49m\u001b[38;5;241;43m=\u001b[39;49m\u001b[38;5;241;43m0.1\u001b[39;49m\u001b[43m)\u001b[49m\n",
      "File \u001b[0;32m~/Documents/UNI/DL/dlnn-project_ia-group_10/models/gpt2&resnet18/train.py:17\u001b[0m, in \u001b[0;36mtrain\u001b[0;34m(model, dataloader, epochs, lr)\u001b[0m\n\u001b[1;32m     15\u001b[0m img \u001b[39m=\u001b[39m data[\u001b[39m\"\u001b[39m\u001b[39mx\u001b[39m\u001b[39m\"\u001b[39m]\u001b[39m.\u001b[39mto(device)\n\u001b[1;32m     16\u001b[0m caption \u001b[39m=\u001b[39m data[\u001b[39m\"\u001b[39m\u001b[39my_tokenized\u001b[39m\u001b[39m\"\u001b[39m]\u001b[39m.\u001b[39mto(device)\u001b[39m.\u001b[39msqueeze(\u001b[39m0\u001b[39m)\n\u001b[0;32m---> 17\u001b[0m caption_logits \u001b[39m=\u001b[39m model(img\u001b[39m=\u001b[39;49mimg,train\u001b[39m=\u001b[39;49m\u001b[39mTrue\u001b[39;49;00m,caption\u001b[39m=\u001b[39;49mcaption)\n\u001b[1;32m     18\u001b[0m loss \u001b[39m=\u001b[39m entropy_loss(F\u001b[39m.\u001b[39msoftmax(caption_logits[\u001b[39m0\u001b[39m],dim\u001b[39m=\u001b[39m\u001b[39m-\u001b[39m\u001b[39m1\u001b[39m),caption[\u001b[39m0\u001b[39m])\n\u001b[1;32m     19\u001b[0m loss\u001b[39m.\u001b[39mbackward()\n",
      "File \u001b[0;32m~/miniforge3/envs/ML/lib/python3.10/site-packages/torch/nn/modules/module.py:1501\u001b[0m, in \u001b[0;36mModule._call_impl\u001b[0;34m(self, *args, **kwargs)\u001b[0m\n\u001b[1;32m   1496\u001b[0m \u001b[39m# If we don't have any hooks, we want to skip the rest of the logic in\u001b[39;00m\n\u001b[1;32m   1497\u001b[0m \u001b[39m# this function, and just call forward.\u001b[39;00m\n\u001b[1;32m   1498\u001b[0m \u001b[39mif\u001b[39;00m \u001b[39mnot\u001b[39;00m (\u001b[39mself\u001b[39m\u001b[39m.\u001b[39m_backward_hooks \u001b[39mor\u001b[39;00m \u001b[39mself\u001b[39m\u001b[39m.\u001b[39m_backward_pre_hooks \u001b[39mor\u001b[39;00m \u001b[39mself\u001b[39m\u001b[39m.\u001b[39m_forward_hooks \u001b[39mor\u001b[39;00m \u001b[39mself\u001b[39m\u001b[39m.\u001b[39m_forward_pre_hooks\n\u001b[1;32m   1499\u001b[0m         \u001b[39mor\u001b[39;00m _global_backward_pre_hooks \u001b[39mor\u001b[39;00m _global_backward_hooks\n\u001b[1;32m   1500\u001b[0m         \u001b[39mor\u001b[39;00m _global_forward_hooks \u001b[39mor\u001b[39;00m _global_forward_pre_hooks):\n\u001b[0;32m-> 1501\u001b[0m     \u001b[39mreturn\u001b[39;00m forward_call(\u001b[39m*\u001b[39;49margs, \u001b[39m*\u001b[39;49m\u001b[39m*\u001b[39;49mkwargs)\n\u001b[1;32m   1502\u001b[0m \u001b[39m# Do not call functions when jit is used\u001b[39;00m\n\u001b[1;32m   1503\u001b[0m full_backward_hooks, non_full_backward_hooks \u001b[39m=\u001b[39m [], []\n",
      "File \u001b[0;32m~/Documents/UNI/DL/dlnn-project_ia-group_10/models/gpt2&resnet18/models.py:108\u001b[0m, in \u001b[0;36mcaption_generator.forward\u001b[0;34m(self, img, train, caption)\u001b[0m\n\u001b[1;32m     94\u001b[0m \u001b[39m\u001b[39m\u001b[39m\"\"\"\u001b[39;00m\n\u001b[1;32m     95\u001b[0m \u001b[39mForward function of the caption_generator model class.\u001b[39;00m\n\u001b[1;32m     96\u001b[0m \n\u001b[0;32m   (...)\u001b[0m\n\u001b[1;32m    105\u001b[0m \n\u001b[1;32m    106\u001b[0m \u001b[39m\"\"\"\u001b[39;00m\n\u001b[1;32m    107\u001b[0m \u001b[39m#extract features with resnet:\u001b[39;00m\n\u001b[0;32m--> 108\u001b[0m features \u001b[39m=\u001b[39m \u001b[39mself\u001b[39;49m\u001b[39m.\u001b[39;49mresnet18(img)\n\u001b[1;32m    110\u001b[0m \u001b[39m#generate gpt2_embeddings\u001b[39;00m\n\u001b[1;32m    111\u001b[0m concat_embs1 \u001b[39m=\u001b[39m \u001b[39mself\u001b[39m\u001b[39m.\u001b[39mimgfeat_to_gpt2emb(features,features,features)\n",
      "File \u001b[0;32m~/miniforge3/envs/ML/lib/python3.10/site-packages/torch/nn/modules/module.py:1501\u001b[0m, in \u001b[0;36mModule._call_impl\u001b[0;34m(self, *args, **kwargs)\u001b[0m\n\u001b[1;32m   1496\u001b[0m \u001b[39m# If we don't have any hooks, we want to skip the rest of the logic in\u001b[39;00m\n\u001b[1;32m   1497\u001b[0m \u001b[39m# this function, and just call forward.\u001b[39;00m\n\u001b[1;32m   1498\u001b[0m \u001b[39mif\u001b[39;00m \u001b[39mnot\u001b[39;00m (\u001b[39mself\u001b[39m\u001b[39m.\u001b[39m_backward_hooks \u001b[39mor\u001b[39;00m \u001b[39mself\u001b[39m\u001b[39m.\u001b[39m_backward_pre_hooks \u001b[39mor\u001b[39;00m \u001b[39mself\u001b[39m\u001b[39m.\u001b[39m_forward_hooks \u001b[39mor\u001b[39;00m \u001b[39mself\u001b[39m\u001b[39m.\u001b[39m_forward_pre_hooks\n\u001b[1;32m   1499\u001b[0m         \u001b[39mor\u001b[39;00m _global_backward_pre_hooks \u001b[39mor\u001b[39;00m _global_backward_hooks\n\u001b[1;32m   1500\u001b[0m         \u001b[39mor\u001b[39;00m _global_forward_hooks \u001b[39mor\u001b[39;00m _global_forward_pre_hooks):\n\u001b[0;32m-> 1501\u001b[0m     \u001b[39mreturn\u001b[39;00m forward_call(\u001b[39m*\u001b[39;49margs, \u001b[39m*\u001b[39;49m\u001b[39m*\u001b[39;49mkwargs)\n\u001b[1;32m   1502\u001b[0m \u001b[39m# Do not call functions when jit is used\u001b[39;00m\n\u001b[1;32m   1503\u001b[0m full_backward_hooks, non_full_backward_hooks \u001b[39m=\u001b[39m [], []\n",
      "File \u001b[0;32m~/miniforge3/envs/ML/lib/python3.10/site-packages/torchvision/models/resnet.py:285\u001b[0m, in \u001b[0;36mResNet.forward\u001b[0;34m(self, x)\u001b[0m\n\u001b[1;32m    284\u001b[0m \u001b[39mdef\u001b[39;00m \u001b[39mforward\u001b[39m(\u001b[39mself\u001b[39m, x: Tensor) \u001b[39m-\u001b[39m\u001b[39m>\u001b[39m Tensor:\n\u001b[0;32m--> 285\u001b[0m     \u001b[39mreturn\u001b[39;00m \u001b[39mself\u001b[39;49m\u001b[39m.\u001b[39;49m_forward_impl(x)\n",
      "File \u001b[0;32m~/miniforge3/envs/ML/lib/python3.10/site-packages/torchvision/models/resnet.py:268\u001b[0m, in \u001b[0;36mResNet._forward_impl\u001b[0;34m(self, x)\u001b[0m\n\u001b[1;32m    266\u001b[0m \u001b[39mdef\u001b[39;00m \u001b[39m_forward_impl\u001b[39m(\u001b[39mself\u001b[39m, x: Tensor) \u001b[39m-\u001b[39m\u001b[39m>\u001b[39m Tensor:\n\u001b[1;32m    267\u001b[0m     \u001b[39m# See note [TorchScript super()]\u001b[39;00m\n\u001b[0;32m--> 268\u001b[0m     x \u001b[39m=\u001b[39m \u001b[39mself\u001b[39;49m\u001b[39m.\u001b[39;49mconv1(x)\n\u001b[1;32m    269\u001b[0m     x \u001b[39m=\u001b[39m \u001b[39mself\u001b[39m\u001b[39m.\u001b[39mbn1(x)\n\u001b[1;32m    270\u001b[0m     x \u001b[39m=\u001b[39m \u001b[39mself\u001b[39m\u001b[39m.\u001b[39mrelu(x)\n",
      "File \u001b[0;32m~/miniforge3/envs/ML/lib/python3.10/site-packages/torch/nn/modules/module.py:1501\u001b[0m, in \u001b[0;36mModule._call_impl\u001b[0;34m(self, *args, **kwargs)\u001b[0m\n\u001b[1;32m   1496\u001b[0m \u001b[39m# If we don't have any hooks, we want to skip the rest of the logic in\u001b[39;00m\n\u001b[1;32m   1497\u001b[0m \u001b[39m# this function, and just call forward.\u001b[39;00m\n\u001b[1;32m   1498\u001b[0m \u001b[39mif\u001b[39;00m \u001b[39mnot\u001b[39;00m (\u001b[39mself\u001b[39m\u001b[39m.\u001b[39m_backward_hooks \u001b[39mor\u001b[39;00m \u001b[39mself\u001b[39m\u001b[39m.\u001b[39m_backward_pre_hooks \u001b[39mor\u001b[39;00m \u001b[39mself\u001b[39m\u001b[39m.\u001b[39m_forward_hooks \u001b[39mor\u001b[39;00m \u001b[39mself\u001b[39m\u001b[39m.\u001b[39m_forward_pre_hooks\n\u001b[1;32m   1499\u001b[0m         \u001b[39mor\u001b[39;00m _global_backward_pre_hooks \u001b[39mor\u001b[39;00m _global_backward_hooks\n\u001b[1;32m   1500\u001b[0m         \u001b[39mor\u001b[39;00m _global_forward_hooks \u001b[39mor\u001b[39;00m _global_forward_pre_hooks):\n\u001b[0;32m-> 1501\u001b[0m     \u001b[39mreturn\u001b[39;00m forward_call(\u001b[39m*\u001b[39;49margs, \u001b[39m*\u001b[39;49m\u001b[39m*\u001b[39;49mkwargs)\n\u001b[1;32m   1502\u001b[0m \u001b[39m# Do not call functions when jit is used\u001b[39;00m\n\u001b[1;32m   1503\u001b[0m full_backward_hooks, non_full_backward_hooks \u001b[39m=\u001b[39m [], []\n",
      "File \u001b[0;32m~/miniforge3/envs/ML/lib/python3.10/site-packages/torch/nn/modules/conv.py:463\u001b[0m, in \u001b[0;36mConv2d.forward\u001b[0;34m(self, input)\u001b[0m\n\u001b[1;32m    462\u001b[0m \u001b[39mdef\u001b[39;00m \u001b[39mforward\u001b[39m(\u001b[39mself\u001b[39m, \u001b[39minput\u001b[39m: Tensor) \u001b[39m-\u001b[39m\u001b[39m>\u001b[39m Tensor:\n\u001b[0;32m--> 463\u001b[0m     \u001b[39mreturn\u001b[39;00m \u001b[39mself\u001b[39;49m\u001b[39m.\u001b[39;49m_conv_forward(\u001b[39minput\u001b[39;49m, \u001b[39mself\u001b[39;49m\u001b[39m.\u001b[39;49mweight, \u001b[39mself\u001b[39;49m\u001b[39m.\u001b[39;49mbias)\n",
      "File \u001b[0;32m~/miniforge3/envs/ML/lib/python3.10/site-packages/torch/nn/modules/conv.py:459\u001b[0m, in \u001b[0;36mConv2d._conv_forward\u001b[0;34m(self, input, weight, bias)\u001b[0m\n\u001b[1;32m    455\u001b[0m \u001b[39mif\u001b[39;00m \u001b[39mself\u001b[39m\u001b[39m.\u001b[39mpadding_mode \u001b[39m!=\u001b[39m \u001b[39m'\u001b[39m\u001b[39mzeros\u001b[39m\u001b[39m'\u001b[39m:\n\u001b[1;32m    456\u001b[0m     \u001b[39mreturn\u001b[39;00m F\u001b[39m.\u001b[39mconv2d(F\u001b[39m.\u001b[39mpad(\u001b[39minput\u001b[39m, \u001b[39mself\u001b[39m\u001b[39m.\u001b[39m_reversed_padding_repeated_twice, mode\u001b[39m=\u001b[39m\u001b[39mself\u001b[39m\u001b[39m.\u001b[39mpadding_mode),\n\u001b[1;32m    457\u001b[0m                     weight, bias, \u001b[39mself\u001b[39m\u001b[39m.\u001b[39mstride,\n\u001b[1;32m    458\u001b[0m                     _pair(\u001b[39m0\u001b[39m), \u001b[39mself\u001b[39m\u001b[39m.\u001b[39mdilation, \u001b[39mself\u001b[39m\u001b[39m.\u001b[39mgroups)\n\u001b[0;32m--> 459\u001b[0m \u001b[39mreturn\u001b[39;00m F\u001b[39m.\u001b[39;49mconv2d(\u001b[39minput\u001b[39;49m, weight, bias, \u001b[39mself\u001b[39;49m\u001b[39m.\u001b[39;49mstride,\n\u001b[1;32m    460\u001b[0m                 \u001b[39mself\u001b[39;49m\u001b[39m.\u001b[39;49mpadding, \u001b[39mself\u001b[39;49m\u001b[39m.\u001b[39;49mdilation, \u001b[39mself\u001b[39;49m\u001b[39m.\u001b[39;49mgroups)\n",
      "\u001b[0;31mKeyboardInterrupt\u001b[0m: "
     ]
    },
    {
     "ename": "",
     "evalue": "",
     "output_type": "error",
     "traceback": [
      "\u001b[1;31mThe Kernel crashed while executing code in the the current cell or a previous cell. Please review the code in the cell(s) to identify a possible cause of the failure. Click <a href='https://aka.ms/vscodeJupyterKernelCrash'>here</a> for more info. View Jupyter <a href='command:jupyter.viewOutput'>log</a> for further details."
     ]
    }
   ],
   "source": [
    "train(model,dataloader,epochs=1,lr=0.1)"
   ]
  }
 ],
 "metadata": {
  "kernelspec": {
   "display_name": "Python 3.10.9 ('ML')",
   "language": "python",
   "name": "python3"
  },
  "language_info": {
   "codemirror_mode": {
    "name": "ipython",
    "version": 3
   },
   "file_extension": ".py",
   "mimetype": "text/x-python",
   "name": "python",
   "nbconvert_exporter": "python",
   "pygments_lexer": "ipython3",
   "version": "3.10.9"
  },
  "orig_nbformat": 4,
  "vscode": {
   "interpreter": {
    "hash": "da600ade1a771c82ddf6d22a5a41f856afbf3528a3611e1c80e3ac6da17c9450"
   }
  }
 },
 "nbformat": 4,
 "nbformat_minor": 2
}
